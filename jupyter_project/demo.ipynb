{
 "cells": [
  {
   "cell_type": "code",
   "execution_count": 1,
   "metadata": {
    "collapsed": true
   },
   "outputs": [],
   "source": [
    "import pandas as pd\n",
    "import cv2\n",
    "import numpy"
   ]
  },
  {
   "cell_type": "code",
   "execution_count": 1,
   "outputs": [
    {
     "ename": "TypeError",
     "evalue": "Required argument 'winname' (pos 1) not found",
     "output_type": "error",
     "traceback": [
      "\u001B[0;31m---------------------------------------------------------------------------\u001B[0m",
      "\u001B[0;31mTypeError\u001B[0m                                 Traceback (most recent call last)",
      "\u001B[0;32m<ipython-input-1-5747874011df>\u001B[0m in \u001B[0;36m<module>\u001B[0;34m\u001B[0m\n\u001B[1;32m     36\u001B[0m         \u001B[0;32mbreak\u001B[0m\u001B[0;34m\u001B[0m\u001B[0;34m\u001B[0m\u001B[0m\n\u001B[1;32m     37\u001B[0m \u001B[0mcap\u001B[0m\u001B[0;34m.\u001B[0m\u001B[0mrelease\u001B[0m\u001B[0;34m(\u001B[0m\u001B[0;34m)\u001B[0m\u001B[0;34m\u001B[0m\u001B[0;34m\u001B[0m\u001B[0m\n\u001B[0;32m---> 38\u001B[0;31m \u001B[0mcv2\u001B[0m\u001B[0;34m.\u001B[0m\u001B[0mdestroyWindow\u001B[0m\u001B[0;34m(\u001B[0m\u001B[0;34m)\u001B[0m\u001B[0;34m\u001B[0m\u001B[0;34m\u001B[0m\u001B[0m\n\u001B[0m\u001B[1;32m     39\u001B[0m \u001B[0;34m\u001B[0m\u001B[0m\n\u001B[1;32m     40\u001B[0m \u001B[0;34m\u001B[0m\u001B[0m\n",
      "\u001B[0;31mTypeError\u001B[0m: Required argument 'winname' (pos 1) not found"
     ]
    }
   ],
   "source": [
    "import cv2\n",
    "import numpy as np\n",
    "# img = cv2.imread(r'/Users/luoliang/Desktop/opencv/test1.jpeg')\n",
    "# img_gray = cv2.cvtColor(img,cv2.COLOR_BGR2GRAY)\n",
    "\n",
    "cap = cv2.VideoCapture(0)\n",
    "cv2.namedWindow('img')\n",
    "while True:\n",
    "    rec,img = cap.read()\n",
    "    img = cv2.flip(img, 1)\n",
    "    if not rec:\n",
    "        break\n",
    "\n",
    "    '''级联器 '''\n",
    "    eye = cv2.CascadeClassifier(\n",
    "        r'/Users/luoliang/opt/anaconda3/envs/py36/lib/python3.6/site-packages/cv2/data/haarcascade_eye.xml')\n",
    "    facer = cv2.CascadeClassifier(\n",
    "        r'/Users/luoliang/opt/anaconda3/envs/py36/lib/python3.6/site-packages/cv2/data/haarcascade_frontalface_alt.xml')\n",
    "\n",
    "    # 检测人脸\n",
    "    face = facer.detectMultiScale(img)\n",
    "    # 画出人脸框\n",
    "    for (x, y, w, h) in face:\n",
    "        cv2.rectangle(img, (x, y), (x + w, y + h), (0, 0, 255), 3)\n",
    "        # 切出人脸区域\n",
    "        roi_face = img[y:y + h, x:x + w]\n",
    "        # 检测眼睛\n",
    "        eyes = eye.detectMultiScale(roi_face)\n",
    "        for (gx, gy, gw, gh) in eyes:\n",
    "            cv2.rectangle(roi_face, (gx, gy), (gx + gw, gy + gh), (0, 0, 255), 3)\n",
    "            img_eye = roi_face[gy:gy + gh, gx:gx + gw]\n",
    "            img[y:y + h, x:x + w] = roi_face\n",
    "    cv2.imshow('img', img)\n",
    "    key = cv2.waitKey(1)\n",
    "    if key == ord('q'):\n",
    "        break\n",
    "cap.release()\n",
    "cv2.destroyWindow()\n",
    "\n",
    "\n",
    "\n",
    "# cv2.imshow('img',img)\n",
    "# cv2.waitKey(0)\n",
    "# cv2.destroyWindow()"
   ],
   "metadata": {
    "collapsed": false,
    "pycharm": {
     "name": "#%%\n"
    }
   }
  },
  {
   "cell_type": "code",
   "execution_count": null,
   "outputs": [],
   "source": [],
   "metadata": {
    "collapsed": false,
    "pycharm": {
     "name": "#%%\n"
    }
   }
  }
 ],
 "metadata": {
  "kernelspec": {
   "display_name": "Python 3",
   "language": "python",
   "name": "python3"
  },
  "language_info": {
   "codemirror_mode": {
    "name": "ipython",
    "version": 2
   },
   "file_extension": ".py",
   "mimetype": "text/x-python",
   "name": "python",
   "nbconvert_exporter": "python",
   "pygments_lexer": "ipython2",
   "version": "2.7.6"
  }
 },
 "nbformat": 4,
 "nbformat_minor": 0
}